{
 "cells": [
  {
   "cell_type": "markdown",
   "metadata": {},
   "source": [
    "# Publications markdown generator for academicpages\n",
    "\n",
    "Takes a TSV of publications with metadata and converts them for use with [academicpages.github.io](academicpages.github.io). This is an interactive Jupyter notebook ([see more info here](http://jupyter-notebook-beginner-guide.readthedocs.io/en/latest/what_is_jupyter.html)). The core python code is also in `publications.py`. Run either from the `markdown_generator` folder after replacing `publications.tsv` with one containing your data.\n",
    "\n",
    "TODO: Make this work with BibTex and other databases of citations, rather than Stuart's non-standard TSV format and citation style.\n"
   ]
  },
  {
   "cell_type": "markdown",
   "metadata": {},
   "source": [
    "## Data format\n",
    "\n",
    "The TSV needs to have the following columns: pub_date, title, venue, excerpt, citation, site_url, and paper_url, with a header at the top. \n",
    "\n",
    "- `excerpt` and `paper_url` can be blank, but the others must have values. \n",
    "- `pub_date` must be formatted as YYYY-MM-DD.\n",
    "- `url_slug` will be the descriptive part of the .md file and the permalink URL for the page about the paper. The .md file will be `YYYY-MM-DD-[url_slug].md` and the permalink will be `https://[yourdomain]/publications/YYYY-MM-DD-[url_slug]`\n",
    "\n",
    "This is how the raw file looks (it doesn't look pretty, use a spreadsheet or other program to edit and create)."
   ]
  },
  {
   "cell_type": "code",
   "execution_count": 1,
   "metadata": {},
   "outputs": [
    {
     "name": "stdout",
     "output_type": "stream",
     "text": [
      ",title,link,authors,publication,publication_year,cited_by_count\r\n",
      "0,Molecular neurobiology of addiction: what’s all the (Δ) FosB about?,https://scholar.google.com/citations?view_op=view_citation&hl=en&user=CVvowJAAAAAJ&pagesize=100&citation_for_view=CVvowJAAAAAJ:5nxA0vEk-isC,JK Ruffle,\"The American journal of drug and alcohol abuse 40 (6), 428-437, 2014\",2014.0,114.0\r\n",
      "1,Artificial intelligence-assisted gastroenterology—promises and pitfalls,https://scholar.google.com/citations?view_op=view_citation&hl=en&user=CVvowJAAAAAJ&pagesize=100&citation_for_view=CVvowJAAAAAJ:4DMP91E08xMC,\"['JK Ruffle', 'AD Farmer', 'Q Aziz']\",\"Official journal of the American College of Gastroenterology| ACG 114 (3 …, 2019\",2019.0,111.0\r\n",
      "2,The role of esophageal hypersensitivity in functional esophageal disorders,https://scholar.google.com/citations?view_op=view_citation&hl=en&user=CVvowJAAAAAJ&pagesize=100&citation_for_view=CVvowJAAAAAJ:kNdYIx-mwKoC,\"['AD Farmer', 'JK Ruffle', 'Q Aziz']\",\"Journal of Clinical Gastroenterology 51 (2), 91-99, 2017\",2017.0,38.0\r\n",
      "3,Systematic review with meta‐analysis: Conditioned pain modulation in patients with the irritable bowel syndrome,https://scholar.google.com/citations?view_op=view_citation&hl=en&user=CVvowJAAAAAJ&pagesize=100&citation_for_view=CVvowJAAAAAJ:4TOpqqG69KYC,\"['A Albusoda', 'JK Ruffle', 'KA Friis', 'MR Gysan', 'AM Drewes', 'Q Aziz', '...']\",\"Alimentary pharmacology & therapeutics 48 (8), 797-806, 2018\",2018.0,33.0\r\n",
      "4,An approach to the care of patients with irritable bowel syndrome,https://scholar.google.com/citations?view_op=view_citation&hl=en&user=CVvowJAAAAAJ&pagesize=100&citation_for_view=CVvowJAAAAAJ:mB3voiENLucC,\"['AD Farmer', 'E Wood', 'JK Ruffle']\",\"CMAJ 192 (11), E275-E282, 2020\",2020.0,25.0\r\n",
      "5,Cannabinoid hyperemesis syndrome: an important differential diagnosis of persistent unexplained vomiting,https://scholar.google.com/citations?view_op=view_citation&hl=en&user=CVvowJAAAAAJ&pagesize=100&citation_for_view=CVvowJAAAAAJ:Se3iqnhoufwC,\"['JK Ruffle', 'S Bajgoric', 'K Samra', 'S Chandrapalan', 'Q Aziz', 'AD Farmer']\",\"European Journal of Gastroenterology & Hepatology 27 (12), 1403-1408, 2015\",2015.0,21.0\r\n",
      "6,The influence of extraversion on brain activity at baseline and during the experience and expectation of visceral pain,https://scholar.google.com/citations?view_op=view_citation&hl=en&user=CVvowJAAAAAJ&pagesize=100&citation_for_view=CVvowJAAAAAJ:Tyk-4Ss8FVUC,\"['JK Ruffle', 'AD Farmer', 'M Kano', 'V Giampietro', 'Q Aziz', 'SJ Coen']\",\"Personality and Individual Differences 74, 248-253, 2015\",2015.0,17.0\r\n",
      "7,\"Transcutaneous vagus nerve stimulation prevents the development of, and reverses, established oesophageal pain hypersensitivity\",https://scholar.google.com/citations?view_op=view_citation&hl=en&user=CVvowJAAAAAJ&pagesize=100&citation_for_view=CVvowJAAAAAJ:HDshCWvjkbEC,\"['AD Farmer', 'A Albusoda', 'G Amarasinghe', 'JK Ruffle', 'HE Fitzke', 'R Idrees', '...']\",\"Alimentary pharmacology & therapeutics 52 (6), 988-996, 2020\",2020.0,16.0\r\n",
      "8,Morphology of subcortical brain nuclei is associated with autonomic function in healthy humans,https://scholar.google.com/citations?view_op=view_citation&hl=en&user=CVvowJAAAAAJ&pagesize=100&citation_for_view=CVvowJAAAAAJ:IjCSPb-OGe4C,\"['JK Ruffle', 'SJ Coen', 'V Giampietro', 'SCR Williams', 'AV Apkarian', 'AD Farmer', '...']\",\"Human brain mapping 39 (1), 381-392, 2018\",2018.0,16.0\r\n",
      "9,Functional brain networks and neuroanatomy underpinning nausea severity can predict nausea susceptibility using machine learning,https://scholar.google.com/citations?view_op=view_citation&hl=en&user=CVvowJAAAAAJ&pagesize=100&citation_for_view=CVvowJAAAAAJ:9ZlFYXVOiuMC,\"['JK Ruffle', 'A Patel', 'V Giampietro', 'MA Howard', 'GJ Sanger', 'PLR Andrews', '...']\",\"The Journal of Physiology 597 (6), 1517-1529, 2019\",2019.0,15.0\r\n",
      "10,Preliminary report: parasympathetic tone links to functional brain networks during the anticipation and experience of visceral pain,https://scholar.google.com/citations?view_op=view_citation&hl=en&user=CVvowJAAAAAJ&pagesize=100&citation_for_view=CVvowJAAAAAJ:_kc_bZDykSQC,\"['JK Ruffle', 'SJ Coen', 'V Giampietro', 'SCR Williams', 'Q Aziz', 'AD Farmer']\",\"Scientific reports 8 (1), 13410, 2018\",2018.0,15.0\r\n",
      "11,Delineation between different components of chronic pain using dimension reduction–an ASL fMRI study in hand osteoarthritis,https://scholar.google.com/citations?view_op=view_citation&hl=en&user=CVvowJAAAAAJ&pagesize=100&citation_for_view=CVvowJAAAAAJ:qjMakFHDy7sC,\"['D Keszthelyi', 'Q Aziz', 'JK Ruffle', \"\"O O'Daly\"\", 'D Sanders', 'K Krause', '...']\",\"European Journal of Pain 22 (7), 1245-1254, 2018\",2018.0,15.0\r\n",
      "12,The autonomic brain: Multi-dimensional generative hierarchical modelling of the autonomic connectome,https://scholar.google.com/citations?view_op=view_citation&hl=en&user=CVvowJAAAAAJ&pagesize=100&citation_for_view=CVvowJAAAAAJ:RHpTSmoSYBkC,\"['JK Ruffle', 'H Hyare', 'MA Howard', 'AD Farmer', 'AV Apkarian', 'SCR Williams', '...']\",\"Cortex 143, 164-179, 2021\",2021.0,13.0\r\n",
      "13,Constipation predominant irritable bowel syndrome and functional constipation are not discrete disorders: A machine learning approach,https://scholar.google.com/citations?view_op=view_citation&hl=en&user=CVvowJAAAAAJ&pagesize=100&citation_for_view=CVvowJAAAAAJ:TQgYirikUcIC,\"['JK Ruffle', 'L Tinkler', 'C Emmett', 'AC Ford', 'P Nachev', 'Q Aziz', 'AD Farmer', '...']\",\"Official journal of the American College of Gastroenterology| ACG 116 (1 …, 2021\",2021.0,11.0\r\n",
      "14,\"Linaclotide increases cecal pH, accelerates colonic transit, and increases colonic motility in irritable bowel syndrome with constipation\",https://scholar.google.com/citations?view_op=view_citation&hl=en&user=CVvowJAAAAAJ&pagesize=100&citation_for_view=CVvowJAAAAAJ:mVmsd5A6BfQC,\"['AD Farmer', 'JK Ruffle', 'AR Hobson']\",\"Neurogastroenterology & Motility 31 (2), e13492, 2019\",2019.0,9.0\r\n",
      "15,Graph lesion-deficit mapping of fluid intelligence,https://scholar.google.com/citations?view_op=view_citation&hl=en&user=CVvowJAAAAAJ&pagesize=100&citation_for_view=CVvowJAAAAAJ:M3NEmzRMIkIC,\"['L Cipolotti', 'JK Ruffle', 'J Mole', 'T Xu', 'H Hyare', 'T Shallice', 'E Chan', 'P Nachev']\",\"Brain 146 (1), 167-181, 2023\",2023.0,6.0\r\n",
      "16,The neurobiology of gut feelings,https://scholar.google.com/citations?view_op=view_citation&hl=en&user=CVvowJAAAAAJ&pagesize=100&citation_for_view=CVvowJAAAAAJ:YOwf2qJgpHMC,\"['Q Aziz', 'JK Ruffle']\",\"The Interoceptive Mind: From Homeostasis to Awareness, 80-101, 2018\",2018.0,6.0\r\n",
      "17,Representational ethical model calibration,https://scholar.google.com/citations?view_op=view_citation&hl=en&user=CVvowJAAAAAJ&pagesize=100&citation_for_view=CVvowJAAAAAJ:maZDTaKrznsC,\"['R Carruthers', 'I Straw', 'JK Ruffle', 'D Herron', 'A Nelson', 'D Bzdok', '...']\",\"NPJ Digital Medicine 5 (1), 170, 2022\",2022.0,4.0\r\n",
      "18,Deep forecasting of translational impact in medical research,https://scholar.google.com/citations?view_op=view_citation&hl=en&user=CVvowJAAAAAJ&pagesize=100&citation_for_view=CVvowJAAAAAJ:4JMBOYKVnBMC,\"['APK Nelson', 'RJ Gray', 'JK Ruffle', 'HC Watkins', 'D Herron', 'N Sorros', '...']\",\"Patterns 3 (5), 2022\",2022.0,4.0\r\n",
      "19,\"Pronociceptive effects mediated by adenosinergic A2A activity at the nucleus accumbens, but what about the autonomic nervous system?\",https://scholar.google.com/citations?view_op=view_citation&hl=en&user=CVvowJAAAAAJ&pagesize=100&citation_for_view=CVvowJAAAAAJ:9yKSN-GCB0IC,\"['JK Ruffle', 'Q Aziz', 'AD Farmer']\",\"Pain 159 (5), 997, 2018\",2018.0,4.0\r\n",
      "20,Neuroimaging of vagal nerve stimulation: are we missing a trick?,https://scholar.google.com/citations?view_op=view_citation&hl=en&user=CVvowJAAAAAJ&pagesize=100&citation_for_view=CVvowJAAAAAJ:u5HHmVD_uO8C,\"['JK Ruffle', 'Q Aziz', 'AD Farmer']\",\"Pain 158 (10), 2053, 2017\",2017.0,4.0\r\n",
      "21,Neuroimaging of visceral pain,https://scholar.google.com/citations?view_op=view_citation&hl=en&user=CVvowJAAAAAJ&pagesize=100&citation_for_view=CVvowJAAAAAJ:eQOLeE2rZwMC,\"['JK Ruffle', 'JB Frokjaer', 'AD Farmer']\",\"Neuroimaging of Pain, 341-374, 2017\",2017.0,4.0\r\n",
      "22,Neuroimaging of CNS infection in haematological malignancy: important signs and common diagnostic pitfalls,https://scholar.google.com/citations?view_op=view_citation&hl=en&user=CVvowJAAAAAJ&pagesize=100&citation_for_view=CVvowJAAAAAJ:_Qo2XoVZTnwC,\"['EA Lim', 'R Gnanadurai', 'JK Ruffle', 'H Lee', 'RF Miller', 'H Hyare']\",\"Clinical Radiology 76 (6), 470. e1-470. e12, 2021\",2021.0,3.0\r\n",
      "23,Artificial intelligence in gastroenterology,https://scholar.google.com/citations?view_op=view_citation&hl=en&user=CVvowJAAAAAJ&pagesize=100&citation_for_view=CVvowJAAAAAJ:qUcmZB5y_30C,\"['JK Ruffle', 'AD Farmer', 'Q Aziz']\",\"Precision Medicine for Investigators, Practitioners and Providers, 343-350, 2020\",2020.0,3.0\r\n",
      "24,PWE-097 Machine learning can accurately classify chronic constipation patients by symptom burden using pain measures alone,https://scholar.google.com/citations?view_op=view_citation&hl=en&user=CVvowJAAAAAJ&pagesize=100&citation_for_view=CVvowJAAAAAJ:ZeXyd9-uunAC,\"['J Ruffle', 'L Tinkler', 'C Emmett', 'Q Aziz', 'A Farmer', 'Y Yiannakou']\",\"Gut 68 (Suppl 2), A218-A219, 2019\",2019.0,3.0\r\n",
      "25,Brain Processing of Gastrointestinal Sensory Signaling,https://scholar.google.com/citations?view_op=view_citation&hl=en&user=CVvowJAAAAAJ&pagesize=100&citation_for_view=CVvowJAAAAAJ:LkGwnXOMwfcC,\"['AD Farmer', 'JK Ruffle', 'Q Aziz']\",\"Physiology of the Gastrointestinal Tract, 373-385, 2018\",2018.0,3.0\r\n",
      "26,\"Irritable bowel syndrome: enigmatic for doctors, problematic for patients\",https://scholar.google.com/citations?view_op=view_citation&hl=en&user=CVvowJAAAAAJ&pagesize=100&citation_for_view=CVvowJAAAAAJ:MXK_kJrjxJIC,\"['A Farmer', 'J Ruffle']\",\"Trends in Urology & Men's Health 8 (2), 13-16, 2017\",2017.0,3.0\r\n",
      "27,Abdominal pain presenting as a tight squeeze on a tchaikovsky score,https://scholar.google.com/citations?view_op=view_citation&hl=en&user=CVvowJAAAAAJ&pagesize=100&citation_for_view=CVvowJAAAAAJ:aqlVkmm33-oC,\"['JK Ruffle', 'N Power', 'Q Aziz']\",\"Gastroenterology 156 (3), e3-e5, 2019\",2019.0,2.0\r\n",
      "28,Pharmacological and other treatment modalities for esophageal pain,https://scholar.google.com/citations?view_op=view_citation&hl=en&user=CVvowJAAAAAJ&pagesize=100&citation_for_view=CVvowJAAAAAJ:d1gkVwhDpl0C,\"['DAL Hoff', 'C Brock', 'AD Farmer', 'R Dickman', 'JK Ruffle', 'A Shaker', '...']\",\"Annals of the New York Academy of Sciences 1380 (1), 58-66, 2016\",2016.0,2.0\r\n",
      "29,Pattern of dysautonomia in patients with functional gastrointestinal disorders,https://scholar.google.com/citations?view_op=view_citation&hl=en&user=CVvowJAAAAAJ&pagesize=100&citation_for_view=CVvowJAAAAAJ:hqOjcs7Dif8C,\"['JK Ruffle', 'M Shah', 'J Monro', 'POO Julu']\",\"Autonomic Neuroscience: Basic and Clinical 192, 119, 2015\",2015.0,2.0\r\n",
      "30,\"OC-066 Influence Of Extraversion On Brain Activity At Baseline, Pain Anticipation And Visceral Pain Processing\",https://scholar.google.com/citations?view_op=view_citation&hl=en&user=CVvowJAAAAAJ&pagesize=100&citation_for_view=CVvowJAAAAAJ:zYLM7Y9cAGgC,\"['JK Ruffle', 'SJ Coen', 'AD Farmer', 'M Kano', 'V Giampietro', 'S Williams', 'Q Aziz']\",\"Gut 63 (Suppl 1), A32-A33, 2014\",2014.0,2.0\r\n",
      "31,A framework for focal and connectomic mapping of transiently disrupted brain function,https://scholar.google.com/citations?view_op=view_citation&hl=en&user=CVvowJAAAAAJ&pagesize=100&citation_for_view=CVvowJAAAAAJ:RYcK_YlVTxYC,\"['MS Elmalem', 'H Moody', 'JK Ruffle', 'MT de Schotten', 'P Haggard', 'B Diehl', '...']\",\"Communications Biology 6 (1), 430, 2023\",2023.0,1.0\r\n",
      "32,Brain tumour genetic network signatures of survival,https://scholar.google.com/citations?view_op=view_citation&hl=en&user=CVvowJAAAAAJ&pagesize=100&citation_for_view=CVvowJAAAAAJ:NaGl4SEjCO4C,\"['JK Ruffle', 'S Mohinta', 'G Pombo', 'R Gray', 'V Kopanitsa', 'F Lee', 'S Brandner', '...']\",\"arXiv preprint arXiv:2301.06111, 2023\",2023.0,1.0\r\n",
      "33,Brain effect of transcutaneous vagal nerve stimulation: A m eta‐analysis of neuroimaging evidence,https://scholar.google.com/citations?view_op=view_citation&hl=en&user=CVvowJAAAAAJ&pagesize=100&citation_for_view=CVvowJAAAAAJ:blknAaTinKkC,\"['R Rajiah', 'K Takahashi', 'Q Aziz', 'JK Ruffle']\",\"Neurogastroenterology & Motility, e14484, 2022\",2022.0,1.0\r\n",
      "34,OWE-026 Conditioned pain modulation in functional gastrointestinal disorders: systematic review & meta-analysis,https://scholar.google.com/citations?view_op=view_citation&hl=en&user=CVvowJAAAAAJ&pagesize=100&citation_for_view=CVvowJAAAAAJ:0EnyYjriUFMC,\"['A Albusoda', 'K Friss', 'M Gysan', 'J Ruffle', 'Q Aziz', 'A Farmer']\",\"Gut 67 (Suppl 1), A207-A207, 2018\",2018.0,1.0\r\n",
      "35,23. Multi-site avascular necrosis of idiopathic aetiology,https://scholar.google.com/citations?view_op=view_citation&hl=en&user=CVvowJAAAAAJ&pagesize=100&citation_for_view=CVvowJAAAAAJ:qxL8FJ1GzNcC,\"['T Mudawi', 'A Mahto', 'JK Ruffle', 'J Bubbear']\",\"Rheumatology Advances in Practice 1 (suppl_1), rkx010. 005, 2017\",2017.0,1.0\r\n",
      "36,The human cost of ethical artificial intelligence,https://scholar.google.com/citations?view_op=view_citation&hl=en&user=CVvowJAAAAAJ&pagesize=100&citation_for_view=CVvowJAAAAAJ:2P1L_qKh6hAC,\"['JK Ruffle', 'C Foulon', 'P Nachev']\",\"Brain Structure and Function, 1-5, 2023\",2023.0,0.0\r\n",
      "37,Brain tumour segmentation with incomplete imaging data,https://scholar.google.com/citations?view_op=view_citation&hl=en&user=CVvowJAAAAAJ&pagesize=100&citation_for_view=CVvowJAAAAAJ:lSLTfruPkqcC,\"['JK Ruffle', 'S Mohinta', 'R Gray', 'H Hyare', 'P Nachev']\",\"Brain Communications 5 (2), fcad118, 2023\",2023.0,0.0\r\n",
      "38,The utility of MRI radiological biomarkers in determining intracranial pressure,https://scholar.google.com/citations?view_op=view_citation&hl=en&user=CVvowJAAAAAJ&pagesize=100&citation_for_view=CVvowJAAAAAJ:70eg2SAEIzsC,\"['AS Pandit', 'M China', 'R Jain', 'AHB Jalal', 'SB Joshi', 'CS The', 'Z Abdi', '...']\",\"medRxiv, 2023.04. 26.23289164, 2023\",2023.0,0.0\r\n",
      "39,\"Phenotyping, genotyping, and prediction of abdominal pain in children using machine learning\",https://scholar.google.com/citations?view_op=view_citation&hl=en&user=CVvowJAAAAAJ&pagesize=100&citation_for_view=CVvowJAAAAAJ:vV6vV6tmYwMC,\"['K Takahashi', 'H Shehwana', 'JK Ruffle', 'JA Williams', 'A Acharjee', 'S Terai', '...']\",\"medRxiv, 2023.04. 26.23289185, 2023\",2023.0,0.0\r\n",
      "40,NETWORK SIGNATURES OF SURVIVAL IN BRAIN TUMOUR GENETICS,https://scholar.google.com/citations?view_op=view_citation&hl=en&user=CVvowJAAAAAJ&pagesize=100&citation_for_view=CVvowJAAAAAJ:RGFaLdJalmkC,\"['J Ruffle', 'S Mohinta', 'G Pombo', 'R Gray', 'V Kopanitsa', 'F Lee', 'S Brandner', '...']\",\"NEURO-ONCOLOGY 24, 27-28, 2022\",2022.0,0.0\r\n",
      "41,THE DEEP TOPOLOGY OF GLIOMAS,https://scholar.google.com/citations?view_op=view_citation&hl=en&user=CVvowJAAAAAJ&pagesize=100&citation_for_view=CVvowJAAAAAJ:ns9cj8rnVeAC,\"['J Ruffle', 'S Mohinta', 'S Brandner', 'H Hyare', 'P Nachev']\",\"NEURO-ONCOLOGY 24, 171-171, 2022\",2022.0,0.0\r\n",
      "42,Focal and Connectomic Mapping of Transiently Disrupted Brain Function,https://scholar.google.com/citations?view_op=view_citation&hl=en&user=CVvowJAAAAAJ&pagesize=100&citation_for_view=CVvowJAAAAAJ:YFjsv_pBGBYC,\"['MS Elmalem', 'H Moody', 'JK Ruffle', 'MT de Schotten', 'P Haggard', 'B Diehl', '...']\",\"arXiv preprint arXiv:2211.00393, 2022\",2022.0,0.0\r\n",
      "43,DEEP LEARNING FOR TUMOUR SEGMENTATION WITH MISSING DATA,https://scholar.google.com/citations?view_op=view_citation&hl=en&user=CVvowJAAAAAJ&pagesize=100&citation_for_view=CVvowJAAAAAJ:GnPB-g6toBAC,\"['J Ruffle', 'S Mohinta', 'R Gray', 'H Hyare', 'P Nachev']\",\"NEURO-ONCOLOGY 24, 16-16, 2022\",2022.0,0.0\r\n",
      "44,Identifying Enhancing Tumour Without Contrast-Enhanced Imaging,https://scholar.google.com/citations?view_op=view_citation&hl=en&user=CVvowJAAAAAJ&pagesize=100&citation_for_view=CVvowJAAAAAJ:hMod-77fHWUC,\"['J Ruﬄe', 'S Mohinta', 'R Gray', 'H Hyare', 'P Nachev']\",\"Neuro-Oncology 24 (Supplement_4), iv3-iv3, 2022\",2022.0,0.0\r\n",
      "45,Graph lesion-deficit mapping of fluid intelligence,https://scholar.google.com/citations?view_op=view_citation&hl=en&user=CVvowJAAAAAJ&pagesize=100&citation_for_view=CVvowJAAAAAJ:ldfaerwXgEUC,J Ruffle,\"Brain: a journal of neurology, 2022\",2022.0,0.0\r\n",
      "46,Differentiating central nervous system infection from disease infiltration in hematological malignancy,https://scholar.google.com/citations?view_op=view_citation&hl=en&user=CVvowJAAAAAJ&pagesize=100&citation_for_view=CVvowJAAAAAJ:JV2RwH3_ST0C,\"['EA Lim', 'JK Ruffle', 'R Gnanadurai', 'H Lee', 'M Escobedo-Cousin', 'E Wall', '...']\",\"Scientific Reports 12 (1), 15805, 2022\",2022.0,0.0\r\n",
      "47,Translating automated brain tumour phenotyping to clinical neuroimaging,https://scholar.google.com/citations?view_op=view_citation&hl=en&user=CVvowJAAAAAJ&pagesize=100&citation_for_view=CVvowJAAAAAJ:iH-uZ7U-co4C,\"['JK Ruffle', 'S Mohinta', 'RJ Gray', 'H Hyare', 'P Nachev']\",\"arXiv preprint arXiv:2206.06120, 2022\",2022.0,0.0\r\n",
      "48,O57 Artificial nutrition use in hypermobile ehlers danlos syndrome: common with autonomic symptoms and disordered eating,https://scholar.google.com/citations?view_op=view_citation&hl=en&user=CVvowJAAAAAJ&pagesize=100&citation_for_view=CVvowJAAAAAJ:TFP_iSt0sucC,\"['R Topan', 'S Williams', 'S Pandya', 'JK Ruffle', 'N Zarate-Lopez', 'Q Aziz', '...']\",\"Gut 71 (Suppl 1), A32-A33, 2022\",2022.0,0.0\r\n",
      "49,P297 Altered diet in hypermobile ehlers danlos syndromeis predicted by upper gastrointestinal disorders and psychopathology,https://scholar.google.com/citations?view_op=view_citation&hl=en&user=CVvowJAAAAAJ&pagesize=100&citation_for_view=CVvowJAAAAAJ:bEWYMUwI8FkC,\"['R Topan', 'S Pandya', 'S Williams', 'JK Ruffle', 'N Zarate-Lopez', 'Q Aziz', '...']\",\"Gut 71 (Suppl 1), A184-A184, 2022\",2022.0,0.0\r\n",
      "50,537: CAN ARTIFICIAL INTELLIGENCE PREDICT THE DEVELOPMENT OF ABDOMINAL PAIN IN CHILDREN?,https://scholar.google.com/citations?view_op=view_citation&hl=en&user=CVvowJAAAAAJ&pagesize=100&citation_for_view=CVvowJAAAAAJ:isC4tDSrTZIC,\"['K Takahashi', 'JK Ruffle', 'S Terai', 'H Satti', 'Q Aziz']\",\"Gastroenterology 162 (7), S-125, 2022\",2022.0,0.0\r\n",
      "51,Author Correction: Differentiating central nervous system infection from disease infiltration in hematological malignancy,https://scholar.google.com/citations?view_op=view_citation&hl=en&user=CVvowJAAAAAJ&pagesize=100&citation_for_view=CVvowJAAAAAJ:O3NaXMp0MMsC,\"['EA Lim', 'JK Ruffle', 'R Gnanadurai', 'H Lee', 'M Escobedo-Cousin', 'E Wall', '...']\",\"Scientific Reports 12, 2022\",2022.0,0.0\r\n",
      "52,Tu1359: OVERLAP OF IBS AND HEDS/HSD: A PHENOTYPE CHARACTERISED BY MARKED AUTONOMIC SYMPTOMS AND INCREASED PREVALENCE OF CHRONIC PAIN,https://scholar.google.com/citations?view_op=view_citation&hl=en&user=CVvowJAAAAAJ&pagesize=100&citation_for_view=CVvowJAAAAAJ:35N4QoGY0k4C,\"['A Choudhary', 'A Fikree', 'Q Aziz', 'K Takahashi', 'JK Ruffle', 'S Terai', '...']\",\"Abstracts of the BSG Annual Meeting 8, 12, 2021\",2021.0,0.0\r\n",
      "53,Network modelling in chronic constipation,https://scholar.google.com/citations?view_op=view_citation&hl=en&user=CVvowJAAAAAJ&pagesize=100&citation_for_view=CVvowJAAAAAJ:r0BpntZqJG4C,\"['R Rajiah', 'M Henderson', 'Q Aziz', 'Y Yiannakou', 'J Ruffle']\",\"NEUROGASTROENTEROLOGY AND MOTILITY 33, 2021\",2021.0,0.0\r\n",
      "54,Transcutaneous vagal nerve stimulation as a potential treatment in functional gastrointestinal disorders: A meta-analysis of neuroimaging evidence,https://scholar.google.com/citations?view_op=view_citation&hl=en&user=CVvowJAAAAAJ&pagesize=100&citation_for_view=CVvowJAAAAAJ:j3f4tGmQtD8C,\"['R Rajiah', 'K Takahashi', 'Q Aziz', 'J Ruffle']\",\"NEUROGASTROENTEROLOGY AND MOTILITY 33, 2021\",2021.0,0.0\r\n",
      "55,P342 Constipation-predominant irritable bowel syndrome and functional constipation are not discrete disorders: a machine learning approach,https://scholar.google.com/citations?view_op=view_citation&hl=en&user=CVvowJAAAAAJ&pagesize=100&citation_for_view=CVvowJAAAAAJ:e5wmG9Sq2KIC,\"['J Ruffle', 'L Tinkler', 'C Emmett', 'A Ford', 'P Nachev', 'Q Aziz', 'A Farmer', '...']\",\"Gut 70 (Suppl 1), A218-A218, 2021\",2021.0,0.0\r\n",
      "56,Knowledge-driven deep neural network models for brain tumour segmentation,https://scholar.google.com/citations?view_op=view_citation&hl=en&user=CVvowJAAAAAJ&pagesize=100&citation_for_view=CVvowJAAAAAJ:R3hNpaxXUhUC,\"['F Colecchia', 'JK Ruffle', 'GC Pombo', 'R Gray', 'H Hyare', 'P Nachev']\",\"Journal of Physics: Conference Series 1662 (1), 012010, 2020\",2020.0,0.0\r\n",
      "57,Neurosense: deep sensing of full or near-full coverage head/brain scans in human magnetic resonance imaging,https://scholar.google.com/citations?view_op=view_citation&hl=en&user=CVvowJAAAAAJ&pagesize=100&citation_for_view=CVvowJAAAAAJ:hFOr9nPyWt4C,\"['B Kanber', 'J Ruffle', 'J Cardoso', 'S Ourselin', 'O Ciccarelli']\",\"Neuroinformatics 18, 333-336, 2020\",2020.0,0.0\r\n",
      "58,\"OWE-14 Symptom burden in chronic constipation is predicted by sensory domains, not stool frequency\",https://scholar.google.com/citations?view_op=view_citation&hl=en&user=CVvowJAAAAAJ&pagesize=100&citation_for_view=CVvowJAAAAAJ:L8Ckcad2t8MC,\"['J Ruffle', 'L Tinkler', 'C Emmett', 'Q Aziz', 'A Farmer', 'Y Yiannakou']\",\"Gut 68 (Suppl 2), A205-A205, 2019\",2019.0,0.0\r\n",
      "59,Su1631–Machine Learning with Pain Measures Alone Can Accurately Classify Chronic Constipation Patients to High Or Low Total Symptom Burden,https://scholar.google.com/citations?view_op=view_citation&hl=en&user=CVvowJAAAAAJ&pagesize=100&citation_for_view=CVvowJAAAAAJ:7PzlFSSx8tAC,\"['JK Ruffle', 'L Tinkler', 'C Emmett', 'Q Aziz', 'AD Farmer', 'Y Yiannakou']\",\"Gastroenterology 156 (6), S-590-S-591, 2019\",2019.0,0.0\r\n",
      "60,\"SENSORY DOMAINS, NOT STOOL FREQUENCY, PREDICT A HIGHER SYMPTOM BURDEN AND A REDUCTION IN QUALITY OF LIFE IN CHRONIC CONSTIPATION\",https://scholar.google.com/citations?view_op=view_citation&hl=en&user=CVvowJAAAAAJ&pagesize=100&citation_for_view=CVvowJAAAAAJ:dhFuZR0502QC,\"['JK Ruffle', 'L Tinkler', 'C Emmett', 'Q Aziz', 'AD Farmer', 'Y Yiannakou']\",\"Gastroenterology 156 (6), S590-S590, 2019\",2019.0,0.0\r\n",
      "61,Moving Neurogastroenterology and Motility into the social media age,https://scholar.google.com/citations?view_op=view_citation&hl=en&user=CVvowJAAAAAJ&pagesize=100&citation_for_view=CVvowJAAAAAJ:Wp0gIr-vW9MC,\"['AD Farmer', 'JK Ruffle', 'M Barber']\",\"Neurogastroenterology and motility: the official journal of the European …, 2018\",2018.0,0.0\r\n",
      "62,A thalamic-cingulate-caudate functional network identifies nausea severity and predicts susceptibility using machine learning,https://scholar.google.com/citations?view_op=view_citation&hl=en&user=CVvowJAAAAAJ&pagesize=100&citation_for_view=CVvowJAAAAAJ:ULOm3_A8WrAC,\"['J Ruffle', 'A Patel', 'V Giampietro', 'Q Aziz', 'A Farmer']\",\"NEUROGASTROENTEROLOGY AND MOTILITY 30, 2018\",2018.0,0.0\r\n",
      "63,Nausea susceptibility is associated with subcortical brain morphology,https://scholar.google.com/citations?view_op=view_citation&hl=en&user=CVvowJAAAAAJ&pagesize=100&citation_for_view=CVvowJAAAAAJ:Zph67rFs4hoC,\"['A Patel', 'J Ruffle', 'V Giampietro', 'Q Aziz', 'A Farmer']\",\"NEUROGASTROENTEROLOGY AND MOTILITY 30, 2018\",2018.0,0.0\r\n",
      "64,PWE-144 Susceptibility to nausea is concurrently associated with subcortical morphology and autonomic tone,https://scholar.google.com/citations?view_op=view_citation&hl=en&user=CVvowJAAAAAJ&pagesize=100&citation_for_view=CVvowJAAAAAJ:8k81kl-MbHgC,\"['A Patel', 'J Ruffle', 'V Giampietro', 'Q Aziz', 'A Farmer']\",\"Gut 67 (Suppl 1), A219-A220, 2018\",2018.0,0.0\r\n",
      "65,PWE-146 Pain endophenotypes display complex subcortical brain morphological differences influenced by autonomic neurophysiology or personality traits,https://scholar.google.com/citations?view_op=view_citation&hl=en&user=CVvowJAAAAAJ&pagesize=100&citation_for_view=CVvowJAAAAAJ:ufrVoPGSRksC,\"['J Ruffle', 'S Coen', 'V Giampietro', 'S Williams', 'Q Aziz', 'A Farmer']\",\"Gut 67 (Suppl 1), A220-A221, 2018\",2018.0,0.0\r\n",
      "66,745-Visceral Pain Endophenotypes Associate to Intricate Subcortical Brain Morphological Differences Contingent on Differing Autonomic Physiology or Personality,https://scholar.google.com/citations?view_op=view_citation&hl=en&user=CVvowJAAAAAJ&pagesize=100&citation_for_view=CVvowJAAAAAJ:Y0pCki6q_DkC,\"['JK Ruffle', 'SJ Coen', 'V Giampietro', 'SC Williams', 'Q Aziz', 'AD Farmer']\",\"Gastroenterology 154 (6), S-155-S-156, 2018\",2018.0,0.0\r\n",
      "67,PTH-117 Subcortical brain morphology differences in gastrointestinal disorders may be confounded by baseine autonomic function,https://scholar.google.com/citations?view_op=view_citation&hl=en&user=CVvowJAAAAAJ&pagesize=100&citation_for_view=CVvowJAAAAAJ:WF5omc3nYNoC,\"['JK Ruffle', 'SJ Coen', 'V Giampietro', 'SCR Williams', 'AD Farmer', 'Q Aziz']\",\"Gut 66 (Suppl 2), A264-A267, 2017\",2017.0,0.0\r\n",
      "68,OC-054 Pain endophenotypes can be accurately predicted by whole brain connectivity during painful oesophageal stimulation,https://scholar.google.com/citations?view_op=view_citation&hl=en&user=CVvowJAAAAAJ&pagesize=100&citation_for_view=CVvowJAAAAAJ:YsMSGLbcyi4C,\"['JK Ruffle', 'SJ Coen', 'V Giampietro', 'SCR Williams', 'AD Farmer', 'Q Aziz']\",\"Gut 66 (Suppl 2), A28-A29, 2017\",2017.0,0.0\r\n",
      "69,Autonomic modulation via slow deep breathing and attention,https://scholar.google.com/citations?view_op=view_citation&hl=en&user=CVvowJAAAAAJ&pagesize=100&citation_for_view=CVvowJAAAAAJ:UeHWp8X0CEIC,\"['A Albusoda', 'J Ruffle', 'A Drewes', 'A Farmer', 'Q Aziz']\",\"EUROPEAN JOURNAL OF CLINICAL INVESTIGATION 47, 123-123, 2017\",2017.0,0.0\r\n",
      "70,Brain Morphological Differences in Gastrointestinal Disorders May Be in Part Due to Alteration in Resting Autonomic Function,https://scholar.google.com/citations?view_op=view_citation&hl=en&user=CVvowJAAAAAJ&pagesize=100&citation_for_view=CVvowJAAAAAJ:roLk4NBRz8UC,\"['JK Ruffle', 'SJ Coen', 'V Giampietro', 'SC Williams', 'AD Farmer', 'Q Aziz']\",\"Gastroenterology 152 (5), S918-S919, 2017\",2017.0,0.0\r\n",
      "71,Effect of Slow Deep Breathing and Attention on the Autonomic Nervous System,https://scholar.google.com/citations?view_op=view_citation&hl=en&user=CVvowJAAAAAJ&pagesize=100&citation_for_view=CVvowJAAAAAJ:W7OEmFMy1HYC,\"['A Albusoda', 'JK Ruffle', 'A Drewes', 'AD Farmer', 'Q Aziz']\",\"Gastroenterology 152 (5), S88-S89, 2017\",2017.0,0.0\r\n",
      "72,\"Tu1803 Influence of Extraversion on Brain Activity During Rest, Pain Anticipation and Visceral Pain Processing\",https://scholar.google.com/citations?view_op=view_citation&hl=en&user=CVvowJAAAAAJ&pagesize=100&citation_for_view=CVvowJAAAAAJ:_FxGoFyzp5QC,\"['JK Ruffle', 'SJ Coen', 'AD Farmer', 'M Kano', 'V Gampietro', 'S Williams', 'Q Aziz']\",\"Gastroenterology 5 (146), S-847, 2014\",2014.0,0.0\r\n",
      "73,Su2110 Brain Processing of Visual Motion Induced Nausea in Healthy Humans,https://scholar.google.com/citations?view_op=view_citation&hl=en&user=CVvowJAAAAAJ&pagesize=100&citation_for_view=CVvowJAAAAAJ:3fE2CSJIrl8C,\"['KS Ng', 'YC Chua', 'VF Ban', 'M Gresty', 'V Gampietro', 'SJ Coen', 'GJ Sanger', '...']\",\"Gastroenterology 5 (144), S-560-S-561, 2013\",2013.0,0.0\r\n",
      "74,490 Studies of the Psychophysiological Markers and the Brain Processing of Nausea in Healthy Humans Using a Novel Virtual Reality Video,https://scholar.google.com/citations?view_op=view_citation&hl=en&user=CVvowJAAAAAJ&pagesize=100&citation_for_view=CVvowJAAAAAJ:2osOgNQ5qMEC,\"['KS Ng', 'YC Chua', 'VF Ban', 'M Gresty', 'SJ Coen', 'GJ Sanger', 'SC Williams', '...']\",\"Gastroenterology 5 (142), S-105, 2012\",2012.0,0.0\r\n"
     ]
    }
   ],
   "source": [
    "!cat article_data.csv"
   ]
  },
  {
   "cell_type": "markdown",
   "metadata": {},
   "source": [
    "## Import pandas\n",
    "\n",
    "We are using the very handy pandas library for dataframes."
   ]
  },
  {
   "cell_type": "code",
   "execution_count": 2,
   "metadata": {},
   "outputs": [],
   "source": [
    "import pandas as pd"
   ]
  },
  {
   "cell_type": "markdown",
   "metadata": {},
   "source": [
    "## Import TSV\n",
    "\n",
    "Pandas makes this easy with the read_csv function. We are using a TSV, so we specify the separator as a tab, or `\\t`.\n",
    "\n",
    "I found it important to put this data in a tab-separated values format, because there are a lot of commas in this kind of data and comma-separated values can get messed up. However, you can modify the import statement, as pandas also has read_excel(), read_json(), and others."
   ]
  },
  {
   "cell_type": "code",
   "execution_count": 3,
   "metadata": {},
   "outputs": [
    {
     "data": {
      "text/html": [
       "<div>\n",
       "<style scoped>\n",
       "    .dataframe tbody tr th:only-of-type {\n",
       "        vertical-align: middle;\n",
       "    }\n",
       "\n",
       "    .dataframe tbody tr th {\n",
       "        vertical-align: top;\n",
       "    }\n",
       "\n",
       "    .dataframe thead th {\n",
       "        text-align: right;\n",
       "    }\n",
       "</style>\n",
       "<table border=\"1\" class=\"dataframe\">\n",
       "  <thead>\n",
       "    <tr style=\"text-align: right;\">\n",
       "      <th></th>\n",
       "      <th>pub_date</th>\n",
       "      <th>title</th>\n",
       "      <th>venue</th>\n",
       "      <th>excerpt</th>\n",
       "      <th>citation</th>\n",
       "      <th>url_slug</th>\n",
       "      <th>paper_url</th>\n",
       "    </tr>\n",
       "  </thead>\n",
       "  <tbody>\n",
       "    <tr>\n",
       "      <th>0</th>\n",
       "      <td>2009-10-01</td>\n",
       "      <td>Paper Title Number 1</td>\n",
       "      <td>Journal 1</td>\n",
       "      <td>This paper is about the number 1. The number 2...</td>\n",
       "      <td>Your Name, You. (2009). \"Paper Title Number 1....</td>\n",
       "      <td>paper-title-number-1</td>\n",
       "      <td>http://academicpages.github.io/files/paper1.pdf</td>\n",
       "    </tr>\n",
       "    <tr>\n",
       "      <th>1</th>\n",
       "      <td>2010-10-01</td>\n",
       "      <td>Paper Title Number 2</td>\n",
       "      <td>Journal 1</td>\n",
       "      <td>This paper is about the number 2. The number 3...</td>\n",
       "      <td>Your Name, You. (2010). \"Paper Title Number 2....</td>\n",
       "      <td>paper-title-number-2</td>\n",
       "      <td>http://academicpages.github.io/files/paper2.pdf</td>\n",
       "    </tr>\n",
       "    <tr>\n",
       "      <th>2</th>\n",
       "      <td>2015-10-01</td>\n",
       "      <td>Paper Title Number 3</td>\n",
       "      <td>Journal 1</td>\n",
       "      <td>This paper is about the number 3. The number 4...</td>\n",
       "      <td>Your Name, You. (2015). \"Paper Title Number 3....</td>\n",
       "      <td>paper-title-number-3</td>\n",
       "      <td>http://academicpages.github.io/files/paper3.pdf</td>\n",
       "    </tr>\n",
       "  </tbody>\n",
       "</table>\n",
       "</div>"
      ],
      "text/plain": [
       "     pub_date                 title      venue  \\\n",
       "0  2009-10-01  Paper Title Number 1  Journal 1   \n",
       "1  2010-10-01  Paper Title Number 2  Journal 1   \n",
       "2  2015-10-01  Paper Title Number 3  Journal 1   \n",
       "\n",
       "                                             excerpt  \\\n",
       "0  This paper is about the number 1. The number 2...   \n",
       "1  This paper is about the number 2. The number 3...   \n",
       "2  This paper is about the number 3. The number 4...   \n",
       "\n",
       "                                            citation              url_slug  \\\n",
       "0  Your Name, You. (2009). \"Paper Title Number 1....  paper-title-number-1   \n",
       "1  Your Name, You. (2010). \"Paper Title Number 2....  paper-title-number-2   \n",
       "2  Your Name, You. (2015). \"Paper Title Number 3....  paper-title-number-3   \n",
       "\n",
       "                                         paper_url  \n",
       "0  http://academicpages.github.io/files/paper1.pdf  \n",
       "1  http://academicpages.github.io/files/paper2.pdf  \n",
       "2  http://academicpages.github.io/files/paper3.pdf  "
      ]
     },
     "execution_count": 3,
     "metadata": {},
     "output_type": "execute_result"
    }
   ],
   "source": [
    "publications = pd.read_csv(\"publications.tsv\", sep=\"\\t\", header=0)\n",
    "publications\n"
   ]
  },
  {
   "cell_type": "markdown",
   "metadata": {},
   "source": [
    "## Escape special characters\n",
    "\n",
    "YAML is very picky about how it takes a valid string, so we are replacing single and double quotes (and ampersands) with their HTML encoded equivilents. This makes them look not so readable in raw format, but they are parsed and rendered nicely."
   ]
  },
  {
   "cell_type": "code",
   "execution_count": 4,
   "metadata": {},
   "outputs": [],
   "source": [
    "html_escape_table = {\n",
    "    \"&\": \"&amp;\",\n",
    "    '\"': \"&quot;\",\n",
    "    \"'\": \"&apos;\"\n",
    "    }\n",
    "\n",
    "def html_escape(text):\n",
    "    \"\"\"Produce entities within text.\"\"\"\n",
    "    return \"\".join(html_escape_table.get(c,c) for c in text)"
   ]
  },
  {
   "cell_type": "markdown",
   "metadata": {},
   "source": [
    "## Creating the markdown files\n",
    "\n",
    "This is where the heavy lifting is done. This loops through all the rows in the TSV dataframe, then starts to concatentate a big string (```md```) that contains the markdown for each type. It does the YAML metadata first, then does the description for the individual page."
   ]
  },
  {
   "cell_type": "code",
   "execution_count": 5,
   "metadata": {},
   "outputs": [],
   "source": [
    "import os\n",
    "for row, item in publications.iterrows():\n",
    "    \n",
    "    md_filename = str(item.pub_date) + \"-\" + item.url_slug + \".md\"\n",
    "    html_filename = str(item.pub_date) + \"-\" + item.url_slug\n",
    "    year = item.pub_date[:4]\n",
    "    \n",
    "    ## YAML variables\n",
    "    \n",
    "    md = \"---\\ntitle: \\\"\"   + item.title + '\"\\n'\n",
    "    \n",
    "    md += \"\"\"collection: publications\"\"\"\n",
    "    \n",
    "    md += \"\"\"\\npermalink: /publication/\"\"\" + html_filename\n",
    "    \n",
    "    if len(str(item.excerpt)) > 5:\n",
    "        md += \"\\nexcerpt: '\" + html_escape(item.excerpt) + \"'\"\n",
    "    \n",
    "    md += \"\\ndate: \" + str(item.pub_date) \n",
    "    \n",
    "    md += \"\\nvenue: '\" + html_escape(item.venue) + \"'\"\n",
    "    \n",
    "    if len(str(item.paper_url)) > 5:\n",
    "        md += \"\\npaperurl: '\" + item.paper_url + \"'\"\n",
    "    \n",
    "    md += \"\\ncitation: '\" + html_escape(item.citation) + \"'\"\n",
    "    \n",
    "    md += \"\\n---\"\n",
    "    \n",
    "    ## Markdown description for individual page\n",
    "        \n",
    "    if len(str(item.excerpt)) > 5:\n",
    "        md += \"\\n\" + html_escape(item.excerpt) + \"\\n\"\n",
    "    \n",
    "    if len(str(item.paper_url)) > 5:\n",
    "        md += \"\\n[Download paper here](\" + item.paper_url + \")\\n\" \n",
    "        \n",
    "    md += \"\\nRecommended citation: \" + item.citation\n",
    "    \n",
    "    md_filename = os.path.basename(md_filename)\n",
    "       \n",
    "    with open(\"../_publications/\" + md_filename, 'w') as f:\n",
    "        f.write(md)"
   ]
  },
  {
   "cell_type": "markdown",
   "metadata": {},
   "source": [
    "These files are in the publications directory, one directory below where we're working from."
   ]
  },
  {
   "cell_type": "code",
   "execution_count": 6,
   "metadata": {},
   "outputs": [
    {
     "name": "stdout",
     "output_type": "stream",
     "text": [
      "2009-10-01-paper-title-number-1.md 2015-10-01-paper-title-number-3.md\r\n",
      "2010-10-01-paper-title-number-2.md\r\n"
     ]
    }
   ],
   "source": [
    "!ls ../_publications/"
   ]
  },
  {
   "cell_type": "code",
   "execution_count": 7,
   "metadata": {},
   "outputs": [
    {
     "name": "stdout",
     "output_type": "stream",
     "text": [
      "---\r\n",
      "title: \"Paper Title Number 1\"\r\n",
      "collection: publications\r\n",
      "permalink: /publication/2009-10-01-paper-title-number-1\r\n",
      "excerpt: 'This paper is about the number 1. The number 2 is left for future work.'\r\n",
      "date: 2009-10-01\r\n",
      "venue: 'Journal 1'\r\n",
      "paperurl: 'http://academicpages.github.io/files/paper1.pdf'\r\n",
      "citation: 'Your Name, You. (2009). &quot;Paper Title Number 1.&quot; <i>Journal 1</i>. 1(1).'\r\n",
      "---\r\n",
      "This paper is about the number 1. The number 2 is left for future work.\r\n",
      "\r\n",
      "[Download paper here](http://academicpages.github.io/files/paper1.pdf)\r\n",
      "\r\n",
      "Recommended citation: Your Name, You. (2009). \"Paper Title Number 1.\" <i>Journal 1</i>. 1(1)."
     ]
    }
   ],
   "source": [
    "!cat ../_publications/2009-10-01-paper-title-number-1.md"
   ]
  },
  {
   "cell_type": "code",
   "execution_count": null,
   "metadata": {
    "collapsed": true
   },
   "outputs": [],
   "source": []
  }
 ],
 "metadata": {
  "kernelspec": {
   "display_name": "Python 3 (ipykernel)",
   "language": "python",
   "name": "python3"
  },
  "language_info": {
   "codemirror_mode": {
    "name": "ipython",
    "version": 3
   },
   "file_extension": ".py",
   "mimetype": "text/x-python",
   "name": "python",
   "nbconvert_exporter": "python",
   "pygments_lexer": "ipython3",
   "version": "3.11.4"
  }
 },
 "nbformat": 4,
 "nbformat_minor": 1
}
